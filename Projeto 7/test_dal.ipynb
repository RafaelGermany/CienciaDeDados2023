{
 "cells": [
  {
   "cell_type": "markdown",
   "id": "6cad58b0-1303-4ae1-844f-ef0e784af01a",
   "metadata": {},
   "source": [
    "## Módulo Dal - \"data access layer\""
   ]
  },
  {
   "cell_type": "code",
   "execution_count": 1,
   "id": "f59f5823-09fb-4b74-963c-587aba44ddc0",
   "metadata": {},
   "outputs": [],
   "source": [
    "import sqlite3 as sql"
   ]
  },
  {
   "cell_type": "code",
   "execution_count": 25,
   "id": "7debedda-799a-4e5a-a0ae-0631a80c3792",
   "metadata": {},
   "outputs": [
    {
     "ename": "OperationalError",
     "evalue": "table Contatos already exists",
     "output_type": "error",
     "traceback": [
      "\u001b[1;31m---------------------------------------------------------------------------\u001b[0m",
      "\u001b[1;31mOperationalError\u001b[0m                          Traceback (most recent call last)",
      "Cell \u001b[1;32mIn[25], line 6\u001b[0m\n\u001b[0;32m      3\u001b[0m conn \u001b[38;5;241m=\u001b[39m sql\u001b[38;5;241m.\u001b[39mconnect(\u001b[38;5;124m\"\u001b[39m\u001b[38;5;124mAgenda.db\u001b[39m\u001b[38;5;124m\"\u001b[39m)\n\u001b[0;32m      4\u001b[0m conn\u001b[38;5;241m.\u001b[39mcursor()\n\u001b[1;32m----> 6\u001b[0m \u001b[43mconn\u001b[49m\u001b[38;5;241;43m.\u001b[39;49m\u001b[43mexecute\u001b[49m\u001b[43m(\u001b[49m\u001b[38;5;124;43m\"\"\"\u001b[39;49m\n\u001b[0;32m      7\u001b[0m \u001b[38;5;124;43m    CREATE TABLE Contatos(\u001b[39;49m\n\u001b[0;32m      8\u001b[0m \u001b[38;5;124;43m    id INTEGER NOT NULL PRIMARY KEY AUTOINCREMENT,\u001b[39;49m\n\u001b[0;32m      9\u001b[0m \u001b[38;5;124;43m    prenome VARCHAR(50) NOT NULL,\u001b[39;49m\n\u001b[0;32m     10\u001b[0m \u001b[38;5;124;43m    nomeMeio VARCHAR(350) NOT NULL,\u001b[39;49m\n\u001b[0;32m     11\u001b[0m \u001b[38;5;124;43m    sobrenome VARCHAR(350) NOT NULL,\u001b[39;49m\n\u001b[0;32m     12\u001b[0m \u001b[38;5;124;43m    codArea VARCHAR(2) NOT NULL,\u001b[39;49m\n\u001b[0;32m     13\u001b[0m \u001b[38;5;124;43m    celular VARCHAR(9) NOT NULL,\u001b[39;49m\n\u001b[0;32m     14\u001b[0m \u001b[38;5;124;43m    fixo VARCHAR(8),\u001b[39;49m\n\u001b[0;32m     15\u001b[0m \u001b[38;5;124;43m    estado VARCHAR(2) NOT NULL,\u001b[39;49m\n\u001b[0;32m     16\u001b[0m \u001b[38;5;124;43m    municipio VARCHAR(30) NOT NULL,\u001b[39;49m\n\u001b[0;32m     17\u001b[0m \u001b[38;5;124;43m    bairro VARCHAR(30) NOT NULL,\u001b[39;49m\n\u001b[0;32m     18\u001b[0m \u001b[38;5;124;43m    tipoLogradouro VARCHAR(10) NOT NULL,\u001b[39;49m\n\u001b[0;32m     19\u001b[0m \u001b[38;5;124;43m    nomeLogradouro VARCHAR(150) NOT NULL,\u001b[39;49m\n\u001b[0;32m     20\u001b[0m \u001b[38;5;124;43m    numero INTEGER,\u001b[39;49m\n\u001b[0;32m     21\u001b[0m \u001b[38;5;124;43m    complemento VARCHAR(100)\u001b[39;49m\n\u001b[0;32m     22\u001b[0m \u001b[38;5;124;43m    );\u001b[39;49m\u001b[38;5;124;43m\"\"\"\u001b[39;49m\n\u001b[0;32m     23\u001b[0m \u001b[43m)\u001b[49m\n\u001b[0;32m     24\u001b[0m conn\u001b[38;5;241m.\u001b[39mclose()\n",
      "\u001b[1;31mOperationalError\u001b[0m: table Contatos already exists"
     ]
    }
   ],
   "source": [
    "#função para criar o banco de dados\n",
    "\n",
    "conn = sql.connect(\"Agenda.db\")\n",
    "conn.cursor()\n",
    "\n",
    "conn.execute(\"\"\"\n",
    "    CREATE TABLE Contatos(\n",
    "    id INTEGER NOT NULL PRIMARY KEY AUTOINCREMENT,\n",
    "    prenome VARCHAR(50) NOT NULL,\n",
    "    nomeMeio VARCHAR(350) NOT NULL,\n",
    "    sobrenome VARCHAR(350) NOT NULL,\n",
    "    codArea VARCHAR(2) NOT NULL,\n",
    "    celular VARCHAR(9) NOT NULL,\n",
    "    fixo VARCHAR(8),\n",
    "    estado VARCHAR(2) NOT NULL,\n",
    "    municipio VARCHAR(30) NOT NULL,\n",
    "    bairro VARCHAR(30) NOT NULL,\n",
    "    tipoLogradouro VARCHAR(10) NOT NULL,\n",
    "    nomeLogradouro VARCHAR(150) NOT NULL,\n",
    "    numero INTEGER,\n",
    "    complemento VARCHAR(100)\n",
    "    );\"\"\"\n",
    ")\n",
    "conn.close()"
   ]
  },
  {
   "cell_type": "code",
   "execution_count": 34,
   "id": "45edf3de-900c-4645-b449-276f0ef4718a",
   "metadata": {},
   "outputs": [
    {
     "data": {
      "text/plain": [
       "<sqlite3.Cursor at 0x2390e952dc0>"
      ]
     },
     "execution_count": 34,
     "metadata": {},
     "output_type": "execute_result"
    }
   ],
   "source": [
    "conn.cursor()\n",
    "conn.execute(\"\"\"INSERT INTO Contatos(id, prenome, nomeMeio, sobrenome, codArea, celular, fixo, estado, municipio, bairro, tipoLogradouro, nomeLogradouro, numero, complemento)\n",
    "VALUES(1, \"João\", \"da Silva\", \"Fontenele\", \"51\", \"996999999\",\"\" , \"RS\", \"Porto Alegre\", \"Medianeira\", \"Rua\", \"Alguma\", 258, \"\")\"\"\")\n",
    "\n"
   ]
  },
  {
   "cell_type": "code",
   "execution_count": 36,
   "id": "a48f6bc4-330e-412a-9b29-9a769a869f10",
   "metadata": {},
   "outputs": [],
   "source": [
    "def inserir (registro: list) -> sql.Cursor:\n",
    "    conn = sql.connect(\"Agenda.db\")\n",
    "    conn.cursor()\n",
    "    conn.execute(\"\"\"\n",
    "    INSERT INTO Contatos values registro;\"\"\")"
   ]
  }
 ],
 "metadata": {
  "kernelspec": {
   "display_name": "Python 3 (ipykernel)",
   "language": "python",
   "name": "python3"
  },
  "language_info": {
   "codemirror_mode": {
    "name": "ipython",
    "version": 3
   },
   "file_extension": ".py",
   "mimetype": "text/x-python",
   "name": "python",
   "nbconvert_exporter": "python",
   "pygments_lexer": "ipython3",
   "version": "3.10.9"
  }
 },
 "nbformat": 4,
 "nbformat_minor": 5
}
